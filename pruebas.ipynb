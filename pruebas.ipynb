{
 "cells": [
  {
   "cell_type": "code",
   "execution_count": 24,
   "metadata": {},
   "outputs": [
    {
     "name": "stdout",
     "output_type": "stream",
     "text": [
      "Total de secuencias:  8\n",
      "Total de secuencias sars:  1978\n",
      "Total de secuencias dengue:  0\n",
      "Total de secuencias mers:  14\n",
      "Total de secuencias influenza:  0\n",
      "Total de secuencias hepatitis:  0\n"
     ]
    }
   ],
   "source": [
    "from Bio import SeqIO\n",
    "import pandas as pd\n",
    "import requests\n",
    "\n",
    "file = SeqIO.parse(\"sequences_20241019_4137729.fasta\", \"fasta\")\n",
    "\n",
    "# for record in file:\n",
    "#     print(record.description)\n",
    "#     print(record.seq)\n",
    "#     print(len(record.seq))\n",
    "#     print(len(record.seq))\n",
    "\n",
    "df = pd.read_csv(\"secuencias_etiquetadas_2.csv\")\n",
    "# print(df[\"sequence\"].values)\n",
    "\n",
    "# contador de secuencias \n",
    "\n",
    "secuencias_repetidas=0\n",
    "contador_secuencias_analizadas=0\n",
    "\n",
    "# contador de predicciones\n",
    "contador_sars=0\n",
    "contador_dengue=0\n",
    "contador_mers=0\n",
    "contador_influenza=0\n",
    "contador_hepatitis=0\n",
    "\n",
    "headers = {\n",
    "    'Content-Type': 'application/x-www-form-urlencoded'\n",
    "}\n",
    "for record in file:\n",
    "    if str(record.seq) in df[\"sequence\"].values:\n",
    "        secuencias_repetidas+=1\n",
    "        # print(record.description)\n",
    "        # print(record.seq)\n",
    "        # print(len(record.seq))\n",
    "        # print(len(record.seq))\n",
    "        # print(\"------\")\n",
    "        # tengo un api al cual accedo mediante http://127.0.0.1:5000/predict y le paso el sequence y me devuelve la etiqueta\n",
    "        # hacer la prueba de prediccion\n",
    "    else:\n",
    "        contador_secuencias_analizadas+=1\n",
    "        data = {\"sequence\": str(record.seq)}\n",
    "        API_URL = \"http://127.0.0.1:5000/predict\"\n",
    "        try:\n",
    "            response = requests.post(\n",
    "                API_URL, \n",
    "                data=data,  # Usar data en lugar de json\n",
    "                headers=headers\n",
    "            )\n",
    "            if response.status_code == 200:\n",
    "                if response.json()[\"predicted_class\"] == \"sars\":\n",
    "                    contador_sars+=1\n",
    "                elif response.json()[\"predicted_class\"] == \"dengue\":\n",
    "                    contador_dengue+=1\n",
    "                elif response.json()[\"predicted_class\"] == \"mers\":\n",
    "                    contador_mers+=1\n",
    "                elif response.json()[\"predicted_class\"] == \"influenza\":\n",
    "                    contador_influenza+=1\n",
    "                elif response.json()[\"predicted_class\"] == \"hepatitis\":\n",
    "                    contador_hepatitis+=1\n",
    "        except:\n",
    "            print(\"Error\")\n",
    "\n",
    "print(\"Analisis de performance SARS-COV-2\")\n",
    "\n",
    "print(\"Total de secuencias analizadas: \", contador_secuencias_analizadas)\n",
    "print(\"Total de secuencias repetidas en el dataset de entrenamiento: \", secuencias_repetidas)\n",
    "print(\"Total de secuencias sars: \", contador_sars)\n",
    "print(\"Total de secuencias dengue: \", contador_dengue)\n",
    "print(\"Total de secuencias mers: \", contador_mers)\n",
    "print(\"Total de secuencias influenza: \", contador_influenza)\n",
    "print(\"Total de secuencias hepatitis: \", contador_hepatitis)\n",
    "print(\"-\"*20)\n",
    "\n",
    "\n"
   ]
  },
  {
   "cell_type": "code",
   "execution_count": 3,
   "metadata": {},
   "outputs": [
    {
     "name": "stdout",
     "output_type": "stream",
     "text": [
      "Analisis de performance  Dengue\n",
      "Total de secuencias analizadas:  1157\n",
      "Total de secuencias repetidas en el dataset de entrenamiento:  843\n",
      "Cadenas predichas como sars:  0\n",
      "Cadenas predichas como dengue:  1148\n",
      "Cadenas predichas como mers:  0\n",
      "Cadenas predichas como influenza:  9\n",
      "Cadenas predichas como hepatitis:  0\n",
      "--------------------\n"
     ]
    }
   ],
   "source": [
    "from Bio import SeqIO\n",
    "import pandas as pd\n",
    "import requests\n",
    "def analisis_performance_virus(path_file, virus):\n",
    "    contador_secuencias_repetidas=0\n",
    "    contador_secuencias_analizadas=0\n",
    "\n",
    "    #API_URL\n",
    "\n",
    "    API_URL = \"http://127.0.0.1:5000/predict\"\n",
    "\n",
    "    #contadores virus\n",
    "    contador_sars=0\n",
    "    contador_dengue=0\n",
    "    contador_mers=0\n",
    "    contador_influenza=0\n",
    "    contador_hepatitis=0\n",
    "\n",
    "    #header para el request\n",
    "\n",
    "    headers = {\n",
    "        'Content-Type': 'application/x-www-form-urlencoded'\n",
    "    }\n",
    "\n",
    "    #archivos\n",
    "    file = SeqIO.parse(path_file, \"fasta\")\n",
    "    df = pd.read_csv(\"secuencias_etiquetadas_2.csv\")\n",
    "\n",
    "    for record in file:\n",
    "        if str(record.seq) in df[\"sequence\"].values:\n",
    "            contador_secuencias_repetidas+=1\n",
    "        else:\n",
    "            contador_secuencias_analizadas+=1\n",
    "            data = {\"sequence\": str(record.seq)}\n",
    "            API_URL = \"http://127.0.0.1:5000/predict\"\n",
    "            try:\n",
    "                response = requests.post(\n",
    "                    API_URL, \n",
    "                    data=data,  # Usar data en lugar de json\n",
    "                    headers=headers\n",
    "                )\n",
    "                if response.status_code == 200:\n",
    "                    if response.json()[\"predicted_class\"] == \"sars\":\n",
    "                        contador_sars+=1\n",
    "                    elif response.json()[\"predicted_class\"] == \"dengue\":\n",
    "                        contador_dengue+=1\n",
    "                    elif response.json()[\"predicted_class\"] == \"mers\":\n",
    "                        contador_mers+=1\n",
    "                    elif response.json()[\"predicted_class\"] == \"influenza\":\n",
    "                        contador_influenza+=1\n",
    "                    elif response.json()[\"predicted_class\"] == \"hepatitis\":\n",
    "                        contador_hepatitis+=1\n",
    "            except:\n",
    "                print(\"Error\")\n",
    "    \n",
    "    print(\"Analisis de performance \", virus)\n",
    "    print(\"Total de secuencias analizadas: \", contador_secuencias_analizadas)\n",
    "    print(\"Total de secuencias repetidas en el dataset de entrenamiento: \", contador_secuencias_repetidas)\n",
    "    print(\"Cadenas predichas como sars: \", contador_sars)\n",
    "    print(\"Cadenas predichas como dengue: \", contador_dengue)\n",
    "    print(\"Cadenas predichas como mers: \", contador_mers)\n",
    "    print(\"Cadenas predichas como influenza: \", contador_influenza)\n",
    "    print(\"Cadenas predichas como hepatitis: \", contador_hepatitis)\n",
    "    print(\"-\"*20)\n",
    "            \n",
    "analisis_performance_virus(\"sequences_20241019_9219718.fasta\", \"Dengue\")"
   ]
  },
  {
   "cell_type": "code",
   "execution_count": null,
   "metadata": {},
   "outputs": [],
   "source": [
    "analisis_performance_virus(\"sequences_20241019_4137729.fasta\", \"SARS-COV-2\")"
   ]
  },
  {
   "cell_type": "code",
   "execution_count": 27,
   "metadata": {},
   "outputs": [
    {
     "name": "stdout",
     "output_type": "stream",
     "text": [
      "Analisis de performance  Influenza\n",
      "Total de secuencias analizadas:  1993\n",
      "Total de secuencias repetidas en el dataset de entrenamiento:  7\n",
      "Cadenas predichas como sars:  0\n",
      "Cadenas predichas como dengue:  0\n",
      "Cadenas predichas como mers:  0\n",
      "Cadenas predichas como influenza:  1993\n",
      "Cadenas predichas como hepatitis:  0\n",
      "--------------------\n"
     ]
    }
   ],
   "source": [
    "analisis_performance_virus(\"sequences_20241019_2760942.fasta\",\"Influenza\")"
   ]
  },
  {
   "cell_type": "code",
   "execution_count": 28,
   "metadata": {},
   "outputs": [
    {
     "name": "stdout",
     "output_type": "stream",
     "text": [
      "Analisis de performance  MERS\n",
      "Total de secuencias analizadas:  1139\n",
      "Total de secuencias repetidas en el dataset de entrenamiento:  517\n",
      "Cadenas predichas como sars:  0\n",
      "Cadenas predichas como dengue:  37\n",
      "Cadenas predichas como mers:  255\n",
      "Cadenas predichas como influenza:  624\n",
      "Cadenas predichas como hepatitis:  223\n",
      "--------------------\n"
     ]
    }
   ],
   "source": [
    "## para el analisis del virus MERS no se utilizaron los \n",
    "# mismsmos parametros que se usaron para el entrenamiento , sino \n",
    "# se usaron todos los registros encontrados en la base de datos de NCBI\n",
    "analisis_performance_virus(\"sequences (8).fasta\", \"MERS\")"
   ]
  },
  {
   "cell_type": "code",
   "execution_count": 29,
   "metadata": {},
   "outputs": [
    {
     "name": "stdout",
     "output_type": "stream",
     "text": [
      "Analisis de performance  Hepatitis B\n",
      "Total de secuencias analizadas:  1626\n",
      "Total de secuencias repetidas en el dataset de entrenamiento:  374\n",
      "Cadenas predichas como sars:  0\n",
      "Cadenas predichas como dengue:  0\n",
      "Cadenas predichas como mers:  0\n",
      "Cadenas predichas como influenza:  3\n",
      "Cadenas predichas como hepatitis:  1623\n",
      "--------------------\n"
     ]
    }
   ],
   "source": [
    "# el virus elegido en el buscador de NCBI fue : HEPATITIS B VIRUS TAXID: 10407\n",
    "analisis_performance_virus(\"sequences_20241019_7173111.fasta\", \"Hepatitis B\")"
   ]
  }
 ],
 "metadata": {
  "kernelspec": {
   "display_name": "Python 3",
   "language": "python",
   "name": "python3"
  },
  "language_info": {
   "codemirror_mode": {
    "name": "ipython",
    "version": 3
   },
   "file_extension": ".py",
   "mimetype": "text/x-python",
   "name": "python",
   "nbconvert_exporter": "python",
   "pygments_lexer": "ipython3",
   "version": "3.10.13"
  }
 },
 "nbformat": 4,
 "nbformat_minor": 2
}
